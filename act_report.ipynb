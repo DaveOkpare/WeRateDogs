{
 "cells": [
  {
   "cell_type": "markdown",
   "id": "a65bdb8b",
   "metadata": {},
   "source": [
    "## Act Report"
   ]
  },
  {
   "cell_type": "markdown",
   "id": "210242c1",
   "metadata": {},
   "source": [
    "### Overview"
   ]
  },
  {
   "cell_type": "markdown",
   "id": "ffe9a35b",
   "metadata": {},
   "source": [
    "The dataset contains information on WeRateDogs [(@dog_rates)](https://twitter.com/dog_rates). WeRateDogs is a Twitter account that rates people's dogs with an amusing comment about the dog. These ratings almost always have a denominator of 10. The numerators, though? Almost always more than 10. 11/10, 12/10, 13/10, etc."
   ]
  },
  {
   "cell_type": "markdown",
   "id": "6d29ed8e",
   "metadata": {},
   "source": [
    "In my analysis, trends in the retweets and favorites counts were discovered over time. This trend highlighted periods where there was an increase and decrease in engagement on WeRateDogs's Twitter account."
   ]
  },
  {
   "cell_type": "markdown",
   "id": "5f9ad6e6",
   "metadata": {},
   "source": [
    "There is immense growth in the number of retweets and favorites in April and May. The growth continues and peaks in June. \n",
    "\n",
    "The months that follow experience reduced activity, with a small hike in the counts of retweets and favorites around October. \n",
    "\n",
    "WeRateDogs Twitter page experiences its lowest interactions in November and December."
   ]
  },
  {
   "cell_type": "markdown",
   "id": "1ecde7a5",
   "metadata": {},
   "source": [
    "<img src=\"data/images/retweets_per_month.png\" style=\"width:600px\">"
   ]
  },
  {
   "cell_type": "markdown",
   "id": "964b43ab",
   "metadata": {},
   "source": [
    "<img src=\"data/images/favorites_per_month.png\" style=\"width:600px\">"
   ]
  },
  {
   "cell_type": "markdown",
   "id": "705630ac",
   "metadata": {},
   "source": [
    "Another insight found was that dogs at the \"pupper\" stage receive the lowest ratings on average, and \"puppo\" receive the highest ratings on average. "
   ]
  },
  {
   "cell_type": "markdown",
   "id": "4b04f845",
   "metadata": {},
   "source": [
    "<img src=\"data/images/dog_stages.png\" style=\"width:600px\">"
   ]
  },
  {
   "cell_type": "markdown",
   "id": "9b70833c",
   "metadata": {},
   "source": [
    "Finally, the last insight we discovered from the analysis, is the most common name among dogs. The most popular names among dogs are \"Copper\", \"Oliver\" and \"Charlie\" "
   ]
  },
  {
   "cell_type": "markdown",
   "id": "a44d02b4",
   "metadata": {},
   "source": [
    "<img src=\"data/images/dog_names.png\" style=\"width:600px\">"
   ]
  },
  {
   "cell_type": "markdown",
   "id": "18167e26",
   "metadata": {},
   "source": [
    "**Limitations**"
   ]
  },
  {
   "cell_type": "markdown",
   "id": "9f914cc6",
   "metadata": {},
   "source": [
    "1. The dataset contains skewed values in both numerators and denominators. Some of these numbers do not represent the rating given to the dog. This has the potential in creating a flaw in our rating analysis. \n",
    "\n",
    "2. There's a large amount of missing values affecting the analysis. "
   ]
  },
  {
   "cell_type": "markdown",
   "id": "5691237b",
   "metadata": {},
   "source": [
    "**Future Work**"
   ]
  },
  {
   "cell_type": "markdown",
   "id": "f03bd01c",
   "metadata": {},
   "source": [
    "Using each insight from the tweet, we can predict the expected rating. Additionally, we can lookup how the number of rating affects the number of retweets and favorites. This would tell if there's correlation between the ratings and user's interaction with WeRateDogs Twitter."
   ]
  }
 ],
 "metadata": {
  "kernelspec": {
   "display_name": "Python 3",
   "language": "python",
   "name": "python3"
  },
  "language_info": {
   "codemirror_mode": {
    "name": "ipython",
    "version": 3
   },
   "file_extension": ".py",
   "mimetype": "text/x-python",
   "name": "python",
   "nbconvert_exporter": "python",
   "pygments_lexer": "ipython3",
   "version": "3.9.12"
  }
 },
 "nbformat": 4,
 "nbformat_minor": 5
}
