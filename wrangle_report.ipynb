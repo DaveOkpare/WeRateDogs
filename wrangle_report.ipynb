{
 "cells": [
  {
   "cell_type": "markdown",
   "id": "3304aa18",
   "metadata": {},
   "source": [
    "# Wrangle Report"
   ]
  },
  {
   "cell_type": "markdown",
   "id": "6eab082a",
   "metadata": {},
   "source": [
    "### Overview"
   ]
  },
  {
   "cell_type": "markdown",
   "id": "ee0860cd",
   "metadata": {},
   "source": [
    "This report demonstrates the steps used to wrangle the dataset. The wrangling efforts commenced with cleaning the dataset, followed by assessing the dataset visually and programmatically for quality and tidiness issues. The issues documented were cleaned. All steps are well documented throughout the notebook."
   ]
  },
  {
   "cell_type": "markdown",
   "id": "a4d207aa",
   "metadata": {},
   "source": [
    "#### 1. Gathering"
   ]
  },
  {
   "cell_type": "markdown",
   "id": "fcd6c6f8",
   "metadata": {},
   "source": [
    "Data was collected from three sources. A different method was used to gather each dataset."
   ]
  },
  {
   "cell_type": "markdown",
   "id": "00b242aa",
   "metadata": {},
   "source": [
    "The first file `twitter_archive_enhanced.csv` was downloaded manually using a link provided by Udacity. Once it was downloaded, we uploaded it and read the data into a pandas DataFrame."
   ]
  },
  {
   "cell_type": "markdown",
   "id": "8950384d",
   "metadata": {},
   "source": [
    "The second file `image_predictions.tsv` was downloaded from Udacity's server programmatically using the Requests library."
   ]
  },
  {
   "cell_type": "markdown",
   "id": "cb81edb1",
   "metadata": {},
   "source": [
    "And the third file was obtained by efforts of querying the Twitter API for each tweet's JSON data using Python's Tweepy library and storing each tweet's entire set of JSON data in a file called `tweet_json.txt` file. We gathered each tweet's retweet count and favorite (\"like\") count. Data were collected only for tweets having IDs in the WeRateDogs Twitter archive."
   ]
  },
  {
   "cell_type": "markdown",
   "id": "76b85bb1",
   "metadata": {},
   "source": [
    "#### 2. Assessing"
   ]
  },
  {
   "cell_type": "markdown",
   "id": "bc61f259",
   "metadata": {},
   "source": [
    "After gathering all three pieces of data, visual and programmatic assessment is performed for quality and tidiness issues. We found 10 quality issues and 2 tidiness issues. Some of the issues found are:\n",
    "\n",
    "- Incorrect and incomplete names.\n",
    "- Retweets are present in the datasets.\n",
    "- Wrong data types and missing information in columns.\n",
    "- Inconsistency in the data."
   ]
  },
  {
   "cell_type": "markdown",
   "id": "e715e6de",
   "metadata": {},
   "source": [
    "#### 3. Cleaning"
   ]
  },
  {
   "cell_type": "markdown",
   "id": "f4293aef",
   "metadata": {},
   "source": [
    "All the quality and tidiness issues were addressed in the cleaning phase. Before performing the cleaning, a copy of the original data was made. During cleaning, the define-code-test framework was used and well documented.\n",
    "\n",
    "The cleaning phase included melting multiple columns (`doggo`, `puppo`, `floofer`, `pupper`) into a single column called `dog_stage`. It also comprised of merging individual pieces of data according to the rules of tidy data. The result was a high-quality and tidy master pandas DataFrame."
   ]
  },
  {
   "cell_type": "markdown",
   "id": "0ffff48f",
   "metadata": {},
   "source": [
    "The cleaned master DataFrame was stored in a CSV file called `twitter_archive_master.csv`."
   ]
  },
  {
   "cell_type": "markdown",
   "id": "fcc3f63c",
   "metadata": {},
   "source": [
    "The wrangling process was concluded by performing exploratory data analysis on the dataset with some key insights highlighted and visualized."
   ]
  }
 ],
 "metadata": {
  "kernelspec": {
   "display_name": "Python 3",
   "language": "python",
   "name": "python3"
  },
  "language_info": {
   "codemirror_mode": {
    "name": "ipython",
    "version": 3
   },
   "file_extension": ".py",
   "mimetype": "text/x-python",
   "name": "python",
   "nbconvert_exporter": "python",
   "pygments_lexer": "ipython3",
   "version": "3.9.12"
  }
 },
 "nbformat": 4,
 "nbformat_minor": 5
}
